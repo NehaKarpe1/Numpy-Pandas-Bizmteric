{
 "cells": [
  {
   "cell_type": "markdown",
   "metadata": {},
   "source": [
    "QUESTION 1"
   ]
  },
  {
   "cell_type": "code",
   "execution_count": 14,
   "metadata": {},
   "outputs": [
    {
     "name": "stdout",
     "output_type": "stream",
     "text": [
      "Integer List: [2, 3, 5, 6]\n",
      "String DataType List: ['cow']\n",
      "List's List : ['[8,9]']\n"
     ]
    }
   ],
   "source": [
    "userinput = input(\"Enter the elements\").split()\n",
    "\n",
    "intlist = []\n",
    "Strlist = []\n",
    "ListDtype = []\n",
    "  \n",
    "if len(userinput) > 0:\n",
    "    for i in userinput:\n",
    "      if i.isdigit(): \n",
    "        intlist.append(int(i))  \n",
    "      elif i.isalpha():\n",
    "        Strlist.append(i)\n",
    "      elif ',' in i and len(i) > 1:\n",
    "         ListDtype.append(i)\n",
    "    \n",
    "    print(\"Integer List:\", intlist)\n",
    "    print(\"String DataType List:\", Strlist)\n",
    "    print(\"List's List :\" , ListDtype)"
   ]
  },
  {
   "cell_type": "code",
   "execution_count": 1,
   "metadata": {},
   "outputs": [],
   "source": [
    "from datetime import datetime\n",
    "from datetime import date\n",
    "from datetime import time,timedelta\n",
    "\n",
    "def task_allocation():\n",
    "  start_date=input('Enter Start date:yyyy-mm-dd')\n",
    "  end_date=input('Enter end date:yyyy-mm-dd')\n",
    "# converting this string to date \n",
    "  st_date=datetime.strptime(start_date,'%Y-%m-%d')\n",
    "  ed_date=datetime.strptime(end_date,'%Y-%m-%d')\n",
    "\n",
    "  current_date=st_date\n",
    "  while current_date<=ed_date:\n",
    "    if current_date.weekday()<5:\n",
    "        print('its weekday')\n",
    "        task=input('enter your task:')\n",
    "        print(task)\n",
    "    else:\n",
    "        print('its weekend no task allocated')\n",
    "    current_date+=timedelta(days=1)"
   ]
  },
  {
   "cell_type": "code",
   "execution_count": 3,
   "metadata": {},
   "outputs": [
    {
     "name": "stdout",
     "output_type": "stream",
     "text": [
      "\n",
      "________________________________________________________________________________\n",
      "                      HOTEL CHATHURTHI                      \n",
      "\n",
      "sr_no         Item        Peritemprice       Quantity     Total\n",
      "________________________________________________________________________________\n",
      "1           idli                  20              2           40\n",
      "2           dosa                  50              3          150\n",
      "________________________________________________________________________________\n",
      "\n",
      "                                                            Total Bill 190\n"
     ]
    }
   ],
   "source": [
    "from functools import reduce\n",
    "def hotel_bill():\n",
    "  itemprice={'idli':20,'vada':20,'poha':30,'dosa':50,'pavbhaji':80,'roti':20,'paneer tika':200}\n",
    "  h_name=\"HOTEL CHATHURTHI\"\n",
    "  print('')\n",
    "  print(80*'_')\n",
    "  print('{: ^60}'.format(h_name))\n",
    "  print('')\n",
    "  sr_no='sr_no'\n",
    "  item='Item'\n",
    "  ppp='Peritemprice'\n",
    "  q='Quantity'\n",
    "  t='Total'\n",
    "  print(f'{sr_no}{item: >13}{ppp:>20}{q:>15}{t:>10}')\n",
    "  print(80*'_')\n",
    "  sr_no=0\n",
    "\n",
    "  Total_bill=[]\n",
    "  while True:\n",
    "    I=input('enter item')\n",
    "    if I=='end':\n",
    "       break\n",
    "    Q=int(input('enter quantity'))\n",
    "     \n",
    "    \n",
    "    Ppp=itemprice[I]\n",
    "    sr_no=sr_no+1\n",
    "    T=Ppp*Q\n",
    "    Total_bill.append(T)\n",
    "   \n",
    "    print(f'{sr_no}{I: >15}{Ppp:>20}{Q:>15}{T:>13}')\n",
    "   \n",
    "  print(80*'_')   \n",
    "  final_bill=reduce(lambda x,y :x+y , Total_bill)\n",
    "  fb='Total Bill'\n",
    "  print('')\n",
    "  print(f'{fb: >70} {final_bill}')\n",
    " \n",
    "\n",
    "    \n",
    "hotel_bill()\n",
    "    \n",
    "    \n",
    "\n",
    "\n",
    "\n",
    "\n",
    "\n"
   ]
  },
  {
   "cell_type": "code",
   "execution_count": 8,
   "metadata": {},
   "outputs": [],
   "source": [
    "import datetime \n",
    "from datetime import date,time\n",
    "from datetime import datetime\n",
    "curr_year=datetime.now().year\n",
    "\n",
    "def cal_age():\n",
    "  try:\n",
    "    DOB1=input('enter birthdate in YYYY-MM-DD')\n",
    "    dob=datetime.strptime(DOB1,'%Y-%m-%d')\n",
    "    print(dob)\n",
    "    birth_year=dob.year \n",
    "    age=curr_year-birth_year-1\n",
    "    \n",
    "  except ValueError:\n",
    "    print(' enter valid birthdate no letters,special characters allowed. Make sure the range of month is 1 to 12 and days 1 to 31')\n",
    "  return age"
   ]
  },
  {
   "cell_type": "code",
   "execution_count": null,
   "metadata": {},
   "outputs": [],
   "source": [
    "import os\n",
    "import shutil\n",
    "\n",
    "\n",
    "small_folder = os.path.join('D:\\\\NEHA\\\\DOCUMENTS', 'small_size')\n",
    "middle_folder = os.path.join('D:\\\\NEHA\\\\DOCUMENTS', 'middle_size')\n",
    "large_folder = os.path.join('D:\\\\NEHA\\\\DOCUMENTS', 'large_size')\n",
    "\n",
    "for folder in [small_folder, middle_folder, large_folder]:\n",
    "    if os.path.exists(folder):\n",
    "        if os.path.isfile(folder):  # If a file exists with the folder name\n",
    "            os.rename(folder, folder + \"_file_backup\")  # Rename the file\n",
    "    else:\n",
    "        os.makedirs(folder, exist_ok=True)\n",
    "\n",
    "\n",
    "source_folder = \"D:\\\\NEHA\\\\DOCUMENTS\"\n",
    "for i in os.listdir(source_folder):\n",
    "    filename = os.path.join(source_folder, i)\n",
    "\n",
    "    \n",
    "    if os.path.isdir(filename):\n",
    "        continue\n",
    "\n",
    "    \n",
    "    sz = os.stat(filename).st_size / 1024\n",
    "\n",
    "    if sz <= 100:\n",
    "        shutil.move(filename, small_folder)\n",
    "    elif 100 < sz <= 200:\n",
    "        shutil.move(filename, middle_folder)\n",
    "    else:\n",
    "        shutil.move(filename, large_folder)\n",
    "\n",
    "print(\"Files have been segregated successfully.\")\n"
   ]
  },
  {
   "cell_type": "code",
   "execution_count": null,
   "metadata": {},
   "outputs": [],
   "source": []
  }
 ],
 "metadata": {
  "kernelspec": {
   "display_name": "Python 3",
   "language": "python",
   "name": "python3"
  },
  "language_info": {
   "codemirror_mode": {
    "name": "ipython",
    "version": 3
   },
   "file_extension": ".py",
   "mimetype": "text/x-python",
   "name": "python",
   "nbconvert_exporter": "python",
   "pygments_lexer": "ipython3",
   "version": "3.12.6"
  }
 },
 "nbformat": 4,
 "nbformat_minor": 2
}
