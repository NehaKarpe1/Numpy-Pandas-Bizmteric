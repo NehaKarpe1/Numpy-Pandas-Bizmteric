{
 "cells": [
  {
   "cell_type": "code",
   "execution_count": null,
   "metadata": {},
   "outputs": [],
   "source": [
    "#String\n",
    "# paragraph writing,+ sign for concat of string,* for multiplication,\\s is used for apostrophee cause 's escapes the code"
   ]
  },
  {
   "cell_type": "code",
   "execution_count": 2,
   "metadata": {},
   "outputs": [
    {
     "ename": "SyntaxError",
     "evalue": "unterminated string literal (detected at line 1) (4294096149.py, line 1)",
     "output_type": "error",
     "traceback": [
      "\u001b[1;36m  Cell \u001b[1;32mIn[2], line 1\u001b[1;36m\u001b[0m\n\u001b[1;33m    print('neha's')\u001b[0m\n\u001b[1;37m                 ^\u001b[0m\n\u001b[1;31mSyntaxError\u001b[0m\u001b[1;31m:\u001b[0m unterminated string literal (detected at line 1)\n"
     ]
    }
   ],
   "source": [
    "print('neha's')"
   ]
  },
  {
   "cell_type": "code",
   "execution_count": 4,
   "metadata": {},
   "outputs": [
    {
     "name": "stdout",
     "output_type": "stream",
     "text": [
      "neha's\n"
     ]
    }
   ],
   "source": [
    "print('neha\\'s')"
   ]
  },
  {
   "cell_type": "code",
   "execution_count": null,
   "metadata": {},
   "outputs": [],
   "source": [
    "#list.reverse,reversed helps reveese iterative element for eg for i in range reversed()"
   ]
  },
  {
   "cell_type": "code",
   "execution_count": 5,
   "metadata": {},
   "outputs": [
    {
     "name": "stdout",
     "output_type": "stream",
     "text": [
      "10 is smaller than 20\n",
      "20 is smaller than 10\n",
      "10 is smaller than 20\n"
     ]
    }
   ],
   "source": [
    "a=10\n",
    "b=20\n",
    "print('{} is smaller than {}'.format(a,b))\n",
    "print('{1} is smaller than {0}'.format(a,b))\n",
    "print('{info} is smaller than {para}'.format(info=a,para=b))"
   ]
  },
  {
   "cell_type": "code",
   "execution_count": 11,
   "metadata": {},
   "outputs": [
    {
     "name": "stdout",
     "output_type": "stream",
     "text": [
      "Float is      10.00 is smaller than 20\n"
     ]
    }
   ],
   "source": [
    "print('Float is {:10.2f} is smaller than {}'.format(a,b))# here 10 allots 10 spaces as shown below"
   ]
  },
  {
   "cell_type": "code",
   "execution_count": 8,
   "metadata": {},
   "outputs": [
    {
     "name": "stdout",
     "output_type": "stream",
     "text": [
      "float is ---------36.87653434---------- and 90.222\n"
     ]
    }
   ],
   "source": [
    "c=90.22222222\n",
    "d=36.87653434\n",
    "print('float is {1:-^30} and {0:.3f}'.format(c,d))"
   ]
  },
  {
   "cell_type": "code",
   "execution_count": 19,
   "metadata": {},
   "outputs": [
    {
     "name": "stdout",
     "output_type": "stream",
     "text": [
      " hello neha is smaller than 86250\n"
     ]
    }
   ],
   "source": [
    "name='neha'\n",
    "no=86250\n",
    "print(' hello {1} is smaller than {0}'.format(no,name))\n",
    "# the code goes like 'string starts {position_preference:space_allocation_no.no_of_decimalf} and stringend'.format(a,b)"
   ]
  },
  {
   "cell_type": "code",
   "execution_count": 24,
   "metadata": {},
   "outputs": [
    {
     "name": "stdout",
     "output_type": "stream",
     "text": [
      " hello      10.00 is smaller than 86250\n"
     ]
    }
   ],
   "source": [
    "print(f' hello {a:10.2f} is smaller than {no}')"
   ]
  },
  {
   "cell_type": "code",
   "execution_count": 10,
   "metadata": {},
   "outputs": [
    {
     "name": "stdout",
     "output_type": "stream",
     "text": [
      "    +10.00and     -10.00\n",
      "     10.00and     -10.00\n",
      "    +10.00and     -10.00\n",
      "     10.00 and     -10.00\n"
     ]
    }
   ],
   "source": [
    "a=10\n",
    "b=-10\n",
    "\n",
    "print('{:+10.2f}and {:+10.2f}'.format(a,b))\n",
    "print('{:-10.2f}and {:-10.2f}'.format(a,b))\n",
    "print('{:+10.2f}and {:-10.2f}'.format(a,b))\n",
    "print('{:-10.2f} and {:+10.2f}'.format(a,b))\n",
    "\n",
    "\n"
   ]
  },
  {
   "cell_type": "code",
   "execution_count": 42,
   "metadata": {},
   "outputs": [
    {
     "name": "stdout",
     "output_type": "stream",
     "text": [
      "-------------------------10.00 \n",
      "10.00----- \n",
      "**10.00*** \n",
      "****bi**** \n"
     ]
    }
   ],
   "source": [
    "z='bill'\n",
    "print('{:->30.2f} '.format(a))\n",
    "print('{:-<10.2f} '.format(a))\n",
    "print('{:*^10.2f} '.format(a))\n",
    "#      space and char(*) and allignment_type.no_of_char/no_of_decimalf\n",
    "print('{:*^10.2} '.format(z))\n"
   ]
  },
  {
   "cell_type": "code",
   "execution_count": 3,
   "metadata": {},
   "outputs": [],
   "source": [
    "from functools import reduce"
   ]
  },
  {
   "cell_type": "markdown",
   "metadata": {},
   "source": [
    "DAY 2 TASK 1 generate hotel bill"
   ]
  },
  {
   "cell_type": "code",
   "execution_count": 20,
   "metadata": {},
   "outputs": [
    {
     "name": "stdout",
     "output_type": "stream",
     "text": [
      "\n",
      "________________________________________________________________________________\n",
      "                      HOTEL CHATHURTHI                      \n",
      "\n",
      "sr_no         Item        Peritemprice       Quantity     Total\n",
      "________________________________________________________________________________\n",
      "1           idli                  20              2           40\n",
      "2           dosa                  50              3          150\n",
      "________________________________________________________________________________\n",
      "\n",
      "                                                            Total Bill 190\n"
     ]
    }
   ],
   "source": [
    "from functools import reduce\n",
    "def hotel_bill():\n",
    "  itemprice={'idli':20,'vada':20,'poha':30,'dosa':50,'pavbhaji':80,'roti':20,'paneer tika':200}\n",
    "  h_name=\"HOTEL CHATHURTHI\"\n",
    "  print('')\n",
    "  print(80*'_')\n",
    "  print('{: ^60}'.format(h_name))\n",
    "  print('')\n",
    "  sr_no='sr_no'\n",
    "  item='Item'\n",
    "  ppp='Peritemprice'\n",
    "  q='Quantity'\n",
    "  t='Total'\n",
    "  print(f'{sr_no}{item: >13}{ppp:>20}{q:>15}{t:>10}')\n",
    "  print(80*'_')\n",
    "sr_no=0\n",
    "\n",
    "Total_bill=[]\n",
    "while True:\n",
    "    I=input('enter item')\n",
    "    if I=='end':\n",
    "       break\n",
    "    Q=int(input('enter quantity'))\n",
    "     \n",
    "    \n",
    "    Ppp=itemprice[I]\n",
    "    sr_no=sr_no+1\n",
    "    T=Ppp*Q\n",
    "    Total_bill.append(T)\n",
    "   \n",
    "    print(f'{sr_no}{I: >15}{Ppp:>20}{Q:>15}{T:>13}')\n",
    "   \n",
    "print(80*'_')   \n",
    "final_bill=reduce(lambda x,y :x+y , Total_bill)\n",
    "fb='Total Bill'\n",
    "print('')\n",
    "print(f'{fb: >70} {final_bill}')\n",
    "\n",
    "\n",
    "    \n",
    "    \n",
    "    \n",
    "    \n",
    "    \n",
    "\n",
    "\n",
    "\n",
    "\n",
    "\n"
   ]
  },
  {
   "cell_type": "code",
   "execution_count": 6,
   "metadata": {},
   "outputs": [
    {
     "name": "stdout",
     "output_type": "stream",
     "text": [
      "---------------\n"
     ]
    }
   ],
   "source": [
    "print(15*'-')"
   ]
  },
  {
   "cell_type": "code",
   "execution_count": 32,
   "metadata": {},
   "outputs": [
    {
     "name": "stdout",
     "output_type": "stream",
     "text": [
      "0\n"
     ]
    }
   ],
   "source": [
    "for i in range(1,):\n",
    "    a=int(input())\n",
    "    print(i)"
   ]
  }
 ],
 "metadata": {
  "kernelspec": {
   "display_name": "Python 3",
   "language": "python",
   "name": "python3"
  },
  "language_info": {
   "codemirror_mode": {
    "name": "ipython",
    "version": 3
   },
   "file_extension": ".py",
   "mimetype": "text/x-python",
   "name": "python",
   "nbconvert_exporter": "python",
   "pygments_lexer": "ipython3",
   "version": "3.12.6"
  }
 },
 "nbformat": 4,
 "nbformat_minor": 2
}
