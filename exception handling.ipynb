{
 "cells": [
  {
   "cell_type": "code",
   "execution_count": 1,
   "metadata": {},
   "outputs": [
    {
     "name": "stdout",
     "output_type": "stream",
     "text": [
      "try again\n"
     ]
    },
    {
     "ename": "NameError",
     "evalue": "name 'z' is not defined",
     "output_type": "error",
     "traceback": [
      "\u001b[1;31m---------------------------------------------------------------------------\u001b[0m",
      "\u001b[1;31mNameError\u001b[0m                                 Traceback (most recent call last)",
      "Cell \u001b[1;32mIn[1], line 15\u001b[0m\n\u001b[0;32m     13\u001b[0m     \u001b[38;5;28mprint\u001b[39m(\u001b[38;5;124m'\u001b[39m\u001b[38;5;124munknown error\u001b[39m\u001b[38;5;124m'\u001b[39m)\n\u001b[0;32m     14\u001b[0m \u001b[38;5;28;01mfinally\u001b[39;00m:\n\u001b[1;32m---> 15\u001b[0m     \u001b[43mz\u001b[49m\n\u001b[0;32m     16\u001b[0m     \u001b[38;5;28mprint\u001b[39m(\u001b[38;5;124m'\u001b[39m\u001b[38;5;124mok done\u001b[39m\u001b[38;5;124m'\u001b[39m)\n",
      "\u001b[1;31mNameError\u001b[0m: name 'z' is not defined"
     ]
    }
   ],
   "source": [
    "try:\n",
    "    z=x+y\n",
    "    print(z)\n",
    "except NameError:\n",
    "    try:\n",
    "      x=int(input())\n",
    "      y=int(input())\n",
    "    except:\n",
    "       print('try again')\n",
    "except TypeError:\n",
    "    print('both  should have same datatype')\n",
    "except:\n",
    "    print('unknown error')\n",
    "finally:\n",
    "    z\n",
    "    print('ok done')\n",
    "    "
   ]
  },
  {
   "cell_type": "code",
   "execution_count": 10,
   "metadata": {},
   "outputs": [
    {
     "name": "stdout",
     "output_type": "stream",
     "text": [
      "5\n",
      "ok done\n"
     ]
    }
   ],
   "source": [
    "try:\n",
    "    z=x+y\n",
    "    print(z)\n",
    "except NameError:\n",
    "    try:\n",
    "      x=int(input())\n",
    "      y=int(input())\n",
    "    except:\n",
    "       print('try again')\n",
    "except TypeError:\n",
    "    print('both  should have same datatype')\n",
    "except:\n",
    "    print('unknown error')\n",
    "finally:\n",
    "    z\n",
    "    print('ok done')"
   ]
  },
  {
   "cell_type": "code",
   "execution_count": 20,
   "metadata": {},
   "outputs": [
    {
     "name": "stdout",
     "output_type": "stream",
     "text": [
      "only from 1 to 10 allowed\n"
     ]
    }
   ],
   "source": [
    "import sys\n",
    "x=int(input())\n",
    "try:\n",
    "    if x>=0 and x<=10:\n",
    "        print('ok')\n",
    "    else :\n",
    "        raise Exception('only from 1 to 10 allowed')\n",
    "except:\n",
    "    print(sys.exc_info()[1])"
   ]
  },
  {
   "cell_type": "code",
   "execution_count": 15,
   "metadata": {},
   "outputs": [
    {
     "ename": "TypeError",
     "evalue": "'>=' not supported between instances of 'str' and 'int'",
     "output_type": "error",
     "traceback": [
      "\u001b[1;31m---------------------------------------------------------------------------\u001b[0m",
      "\u001b[1;31mTypeError\u001b[0m                                 Traceback (most recent call last)",
      "Cell \u001b[1;32mIn[15], line 2\u001b[0m\n\u001b[0;32m      1\u001b[0m y\u001b[38;5;241m=\u001b[39m\u001b[38;5;124m'\u001b[39m\u001b[38;5;124ms\u001b[39m\u001b[38;5;124m'\u001b[39m\n\u001b[1;32m----> 2\u001b[0m \u001b[38;5;28;01mif\u001b[39;00m \u001b[43my\u001b[49m\u001b[38;5;241;43m>\u001b[39;49m\u001b[38;5;241;43m=\u001b[39;49m\u001b[38;5;241;43m0\u001b[39;49m \u001b[38;5;129;01mand\u001b[39;00m y\u001b[38;5;241m<\u001b[39m\u001b[38;5;241m=\u001b[39m\u001b[38;5;241m10\u001b[39m:\n\u001b[0;32m      3\u001b[0m         \u001b[38;5;28mprint\u001b[39m(\u001b[38;5;124m'\u001b[39m\u001b[38;5;124mok\u001b[39m\u001b[38;5;124m'\u001b[39m)\n\u001b[0;32m      4\u001b[0m \u001b[38;5;28;01melse\u001b[39;00m :\n",
      "\u001b[1;31mTypeError\u001b[0m: '>=' not supported between instances of 'str' and 'int'"
     ]
    }
   ],
   "source": [
    "y='s'#STAR\n",
    "if y>=0 and y<=10:\n",
    "        print('ok')\n",
    "else :\n",
    "        raise Exception('only from 1 to 10 allowed')"
   ]
  },
  {
   "cell_type": "code",
   "execution_count": 23,
   "metadata": {},
   "outputs": [
    {
     "name": "stdout",
     "output_type": "stream",
     "text": [
      "only from 1 to 10 allowed\n"
     ]
    }
   ],
   "source": [
    "import sys\n",
    "x=int(input())\n",
    "try:\n",
    "    if x>=0 and x<=10:\n",
    "        print('ok')\n",
    "    else :\n",
    "        print('only from 1 to 10 allowed')\n",
    "except:\n",
    "    print(sys.exc_info()[1])"
   ]
  },
  {
   "cell_type": "code",
   "execution_count": 4,
   "metadata": {},
   "outputs": [
    {
     "ename": "Exception",
     "evalue": "enter valid no only",
     "output_type": "error",
     "traceback": [
      "\u001b[1;31m---------------------------------------------------------------------------\u001b[0m",
      "\u001b[1;31mValueError\u001b[0m                                Traceback (most recent call last)",
      "Cell \u001b[1;32mIn[4], line 4\u001b[0m\n\u001b[0;32m      3\u001b[0m x\u001b[38;5;241m=\u001b[39m\u001b[38;5;28minput\u001b[39m()\n\u001b[1;32m----> 4\u001b[0m y\u001b[38;5;241m=\u001b[39m\u001b[38;5;28;43mfloat\u001b[39;49m\u001b[43m(\u001b[49m\u001b[43mx\u001b[49m\u001b[43m)\u001b[49m\n\u001b[0;32m      6\u001b[0m \u001b[38;5;28;01mif\u001b[39;00m y\u001b[38;5;241m>\u001b[39m\u001b[38;5;241m0\u001b[39m \u001b[38;5;129;01mand\u001b[39;00m y\u001b[38;5;241m<\u001b[39m\u001b[38;5;241m=\u001b[39m\u001b[38;5;241m10\u001b[39m:\n",
      "\u001b[1;31mValueError\u001b[0m: could not convert string to float: 'w'",
      "\nDuring handling of the above exception, another exception occurred:\n",
      "\u001b[1;31mException\u001b[0m                                 Traceback (most recent call last)",
      "Cell \u001b[1;32mIn[4], line 12\u001b[0m\n\u001b[0;32m      9\u001b[0m          \u001b[38;5;28;01mbreak\u001b[39;00m\n\u001b[0;32m     11\u001b[0m \u001b[38;5;28;01mexcept\u001b[39;00m:\n\u001b[1;32m---> 12\u001b[0m     \u001b[38;5;28;01mraise\u001b[39;00m \u001b[38;5;167;01mException\u001b[39;00m(\u001b[38;5;124m'\u001b[39m\u001b[38;5;124menter valid no only\u001b[39m\u001b[38;5;124m'\u001b[39m)\n",
      "\u001b[1;31mException\u001b[0m: enter valid no only"
     ]
    }
   ],
   "source": [
    "\n",
    "while True:\n",
    "   try :\n",
    "        x=input()\n",
    "        y=float(x)\n",
    "        \n",
    "        if y>0 and y<=10:\n",
    "            print(y)\n",
    "            \n",
    "            break\n",
    "       \n",
    "   except:\n",
    "       raise Exception('enter valid no only')\n",
    "       \n",
    "          \n",
    "        \n",
    "     "
   ]
  },
  {
   "cell_type": "code",
   "execution_count": 2,
   "metadata": {},
   "outputs": [
    {
     "name": "stdout",
     "output_type": "stream",
     "text": [
      "enter  number only\n",
      "enter  number only\n",
      "enter  number only\n",
      "sucsessful\n"
     ]
    }
   ],
   "source": [
    "\n",
    "while True:\n",
    "   try :\n",
    "        x=input()\n",
    "        y=float(x)\n",
    "        if y<0 and y>10:\n",
    "         raise Exception('only from 1 to 10')\n",
    "        else:\n",
    "             break\n",
    "   except ValueError:\n",
    "       print ('enter  number only')\n",
    "   except TypeError:\n",
    "       print ('enter   int number only')\n",
    "   except:\n",
    "        print('no valid integer. try again')\n",
    "print('sucsessful')\n"
   ]
  },
  {
   "cell_type": "code",
   "execution_count": 25,
   "metadata": {},
   "outputs": [
    {
     "data": {
      "text/plain": [
       "str"
      ]
     },
     "execution_count": 25,
     "metadata": {},
     "output_type": "execute_result"
    }
   ],
   "source": [
    "type('w')"
   ]
  },
  {
   "cell_type": "code",
   "execution_count": null,
   "metadata": {},
   "outputs": [],
   "source": [
    "class Error1(Exception):  #STAR INCOMPLETE\n",
    "    pass\n",
    "class Name_field_error(Error1):\n",
    "\n",
    "num=10\n",
    "while True:\n",
    "    try:\n",
    "        in_num1=input()\n",
    "        in_num=int(in_num1)\n",
    "        print()\n",
    "        if in_num>num:\n",
    "            raise Name_field_error\n",
    "        else:\n",
    "            break\n",
    "    except Name_field_error:\n",
    "        print('try again')\n",
    "    except:\n",
    "        print(sys.exc_info()[1])\n",
    "        print('something went wrong')\n",
    "        \n",
    "        "
   ]
  },
  {
   "cell_type": "code",
   "execution_count": 23,
   "metadata": {},
   "outputs": [
    {
     "data": {
      "text/plain": [
       "(False, 'error occured due to numberi')"
      ]
     },
     "execution_count": 23,
     "metadata": {},
     "output_type": "execute_result"
    }
   ],
   "source": [
    "\n",
    "def validation_name(name):\n",
    "    try:\n",
    "        if name.isalpha():\n",
    "            print('welcome',name)\n",
    "            flg=True\n",
    "            message='valid'\n",
    "        else:\n",
    "            flg=False\n",
    "            raise Exception('only letters alllowed')\n",
    "    except:\n",
    "        message ='error occured due to numberi'\n",
    "        return flg,message\n",
    "\n",
    "validation_name('1')"
   ]
  },
  {
   "cell_type": "code",
   "execution_count": 25,
   "metadata": {},
   "outputs": [
    {
     "data": {
      "text/plain": [
       "(False, Exception('only letters alllowed'))"
      ]
     },
     "execution_count": 25,
     "metadata": {},
     "output_type": "execute_result"
    }
   ],
   "source": [
    "import sys\n",
    "\n",
    "def validation_name(name):\n",
    "    try:\n",
    "        if name.isalpha():\n",
    "            print('welcome',name)\n",
    "            flg=True\n",
    "            message='valid'\n",
    "        else:\n",
    "            flg=False\n",
    "            raise Exception('only letters alllowed')\n",
    "    except:\n",
    "        message =sys.exc_info()[1]\n",
    "        return flg,message\n",
    "\n",
    "validation_name('1')"
   ]
  },
  {
   "cell_type": "code",
   "execution_count": null,
   "metadata": {},
   "outputs": [],
   "source": []
  },
  {
   "cell_type": "code",
   "execution_count": 4,
   "metadata": {},
   "outputs": [
    {
     "name": "stdout",
     "output_type": "stream",
     "text": [
      "OP(vowel_tuple[length+1]) Error:\n"
     ]
    }
   ],
   "source": [
    "vowel_tuple = ('a','e','i','o','u')\n",
    "try:\n",
    "    print(vowel_tuple[len(vowel_tuple)+1])\n",
    "except :\n",
    "    print(\"OP(vowel_tuple[length+1]) Error:\")"
   ]
  },
  {
   "cell_type": "code",
   "execution_count": 6,
   "metadata": {},
   "outputs": [
    {
     "name": "stdout",
     "output_type": "stream",
     "text": [
      "An error occurred: can only concatenate str (not \"int\") to str\n"
     ]
    }
   ],
   "source": [
    "try:\n",
    "    result = 'a'+1  # This raises ZeroDivisionError\n",
    "except Exception as ex:  # Catch any exception\n",
    "    print(\"An error occurred:\", ex)\n"
   ]
  }
 ],
 "metadata": {
  "kernelspec": {
   "display_name": "Python 3",
   "language": "python",
   "name": "python3"
  },
  "language_info": {
   "codemirror_mode": {
    "name": "ipython",
    "version": 3
   },
   "file_extension": ".py",
   "mimetype": "text/x-python",
   "name": "python",
   "nbconvert_exporter": "python",
   "pygments_lexer": "ipython3",
   "version": "3.12.6"
  }
 },
 "nbformat": 4,
 "nbformat_minor": 2
}
