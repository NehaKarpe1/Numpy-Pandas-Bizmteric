{
 "cells": [
  {
   "cell_type": "code",
   "execution_count": null,
   "metadata": {},
   "outputs": [],
   "source": [
    "#REGEX TOPIC\n",
    "#Refer excel file imp links for re also explore metacharacters"
   ]
  },
  {
   "cell_type": "code",
   "execution_count": 2,
   "metadata": {},
   "outputs": [],
   "source": [
    "import re\n",
    "from re import match"
   ]
  },
  {
   "cell_type": "code",
   "execution_count": 7,
   "metadata": {},
   "outputs": [],
   "source": [
    "pattern='^[a-j]'# ^ denotes start from a to j condition ,$ used for end with\n",
    "ip=input(\"enter string\")\n",
    "re.match(pattern,ip)\n",
    "if re.match(pattern,ip):\n",
    "    print('true')"
   ]
  },
  {
   "cell_type": "code",
   "execution_count": 19,
   "metadata": {},
   "outputs": [
    {
     "name": "stdout",
     "output_type": "stream",
     "text": [
      "true\n"
     ]
    }
   ],
   "source": [
    "pattern1='^[A-j]'# ^ denotes start from a to j condition ,$ used for end with\n",
    "ip1=input(\"enter string\")\n",
    "re.match(pattern1,ip1)\n",
    "if re.match(pattern1,ip1):\n",
    "    print('true')"
   ]
  },
  {
   "cell_type": "code",
   "execution_count": null,
   "metadata": {},
   "outputs": [],
   "source": [
    "pattern1='[a,b,z]'# ^ denotes start from a to j condition ,$ used for end with\n",
    "ip1=input(\"enter string\")\n",
    "re.match(pattern1,ip1)\n",
    "if re.match(pattern1,ip1):\n",
    "    print('true')"
   ]
  },
  {
   "cell_type": "code",
   "execution_count": 11,
   "metadata": {},
   "outputs": [],
   "source": [
    "pattrn='^[A-Z][a-z]*[a-z]$'\n",
    "pattrn='^[A-Z][a-z,0-9]*[a-z]$'\n",
    "# to start with no and end with capital letter\n",
    "pattn='^[0-9][A-Z]$'\n",
    "str=input('enter')\n",
    "re.match(pattn,str)\n",
    "\n"
   ]
  },
  {
   "cell_type": "code",
   "execution_count": null,
   "metadata": {},
   "outputs": [],
   "source": [
    "pattern='^[A-Z].[A-z]$'# here dot represents only one in between \n",
    "pattern='^[A-Z][0-9]{2}[A-z]$' # here {2} allows only two nos in between"
   ]
  },
  {
   "cell_type": "code",
   "execution_count": 13,
   "metadata": {},
   "outputs": [
    {
     "data": {
      "text/plain": [
       "['Theon', 'Gabriel', 'Joey']"
      ]
     },
     "execution_count": 13,
     "metadata": {},
     "output_type": "execute_result"
    }
   ],
   "source": [
    "#find all gives output in the form of list other than re.match\n",
    "para=''' jnaice is 22.\n",
    "and Theon is 12\n",
    "and Gabriel is 49 and\n",
    "Joey is 21012156679'''\n",
    "pattern='[A-Z][a-z]*'\n",
    "re.findall(pattern,para)"
   ]
  },
  {
   "cell_type": "code",
   "execution_count": 16,
   "metadata": {},
   "outputs": [
    {
     "name": "stderr",
     "output_type": "stream",
     "text": [
      "<>:1: SyntaxWarning: invalid escape sequence '\\d'\n",
      "<>:1: SyntaxWarning: invalid escape sequence '\\d'\n",
      "C:\\Users\\User\\AppData\\Local\\Temp\\ipykernel_13388\\15691266.py:1: SyntaxWarning: invalid escape sequence '\\d'\n",
      "  re.findall('\\d',para)\n"
     ]
    },
    {
     "data": {
      "text/plain": [
       "['2',\n",
       " '2',\n",
       " '1',\n",
       " '2',\n",
       " '4',\n",
       " '9',\n",
       " '2',\n",
       " '1',\n",
       " '0',\n",
       " '1',\n",
       " '2',\n",
       " '1',\n",
       " '5',\n",
       " '6',\n",
       " '6',\n",
       " '7',\n",
       " '9']"
      ]
     },
     "execution_count": 16,
     "metadata": {},
     "output_type": "execute_result"
    }
   ],
   "source": [
    "re.findall('\\d',para)"
   ]
  },
  {
   "cell_type": "code",
   "execution_count": 17,
   "metadata": {},
   "outputs": [
    {
     "name": "stderr",
     "output_type": "stream",
     "text": [
      "<>:1: SyntaxWarning: invalid escape sequence '\\d'\n",
      "<>:1: SyntaxWarning: invalid escape sequence '\\d'\n",
      "C:\\Users\\User\\AppData\\Local\\Temp\\ipykernel_13388\\900773902.py:1: SyntaxWarning: invalid escape sequence '\\d'\n",
      "  re.findall('\\d{2}',para)\n"
     ]
    },
    {
     "data": {
      "text/plain": [
       "['22', '12', '49', '21', '01', '21', '56', '67']"
      ]
     },
     "execution_count": 17,
     "metadata": {},
     "output_type": "execute_result"
    }
   ],
   "source": [
    "re.findall('\\d{2}',para)"
   ]
  },
  {
   "cell_type": "code",
   "execution_count": 19,
   "metadata": {},
   "outputs": [
    {
     "name": "stderr",
     "output_type": "stream",
     "text": [
      "<>:1: SyntaxWarning: invalid escape sequence '\\d'\n",
      "<>:1: SyntaxWarning: invalid escape sequence '\\d'\n",
      "C:\\Users\\User\\AppData\\Local\\Temp\\ipykernel_13388\\2934283674.py:1: SyntaxWarning: invalid escape sequence '\\d'\n",
      "  re.findall('\\d{3}',para)\n"
     ]
    },
    {
     "data": {
      "text/plain": [
       "['210', '121', '566']"
      ]
     },
     "execution_count": 19,
     "metadata": {},
     "output_type": "execute_result"
    }
   ],
   "source": [
    "re.findall('\\d{3}',para)"
   ]
  },
  {
   "cell_type": "code",
   "execution_count": 23,
   "metadata": {},
   "outputs": [
    {
     "data": {
      "text/plain": [
       "['22', '12', '49', '21', '01', '21', '56', '67']"
      ]
     },
     "execution_count": 23,
     "metadata": {},
     "output_type": "execute_result"
    }
   ],
   "source": [
    "re.findall('[0-9]{2}',para)"
   ]
  },
  {
   "cell_type": "code",
   "execution_count": null,
   "metadata": {},
   "outputs": [],
   "source": [
    "#re.search(gives true or false),refinditer(gives in form of object)"
   ]
  },
  {
   "cell_type": "code",
   "execution_count": 25,
   "metadata": {},
   "outputs": [
    {
     "data": {
      "text/plain": [
       "[<re.Match object; span=(36, 40), match='Neha'>,\n",
       " <re.Match object; span=(66, 70), match='Neha'>]"
      ]
     },
     "execution_count": 25,
     "metadata": {},
     "output_type": "execute_result"
    }
   ],
   "source": [
    "strng='I am nEHA Karpe. I am 21 years old. Neha is working in Bizmetric. Neha loves to dance and pet dogs and puppies'\n",
    "re.finditer('Neha',strng)\n",
    "list(re.finditer('Neha',strng))"
   ]
  },
  {
   "cell_type": "code",
   "execution_count": 27,
   "metadata": {},
   "outputs": [
    {
     "data": {
      "text/plain": [
       "<re.Match object; span=(36, 40), match='Neha'>"
      ]
     },
     "execution_count": 27,
     "metadata": {},
     "output_type": "execute_result"
    }
   ],
   "source": [
    "re.search('Neha',strng)"
   ]
  },
  {
   "cell_type": "code",
   "execution_count": 30,
   "metadata": {},
   "outputs": [
    {
     "data": {
      "text/plain": [
       "<re.Match object; span=(36, 40), match='Neha'>"
      ]
     },
     "execution_count": 30,
     "metadata": {},
     "output_type": "execute_result"
    }
   ],
   "source": [
    "re.search('Neha',strng)"
   ]
  },
  {
   "cell_type": "code",
   "execution_count": 2,
   "metadata": {},
   "outputs": [],
   "source": [
    "#findall helps to find particular pattern \n"
   ]
  },
  {
   "cell_type": "code",
   "execution_count": 3,
   "metadata": {},
   "outputs": [],
   "source": [
    "#replacing word refer picture clicked on 9 jan 1.30 ish\n",
    "# re.split refer pic clicked on 9 jan 2.25 ish"
   ]
  },
  {
   "cell_type": "code",
   "execution_count": null,
   "metadata": {},
   "outputs": [],
   "source": [
    "# lamba functio STAR"
   ]
  },
  {
   "cell_type": "code",
   "execution_count": 3,
   "metadata": {},
   "outputs": [
    {
     "data": {
      "text/plain": [
       "4"
      ]
     },
     "execution_count": 3,
     "metadata": {},
     "output_type": "execute_result"
    }
   ],
   "source": [
    "a=input('enter')\n",
    "eval(a)"
   ]
  },
  {
   "cell_type": "markdown",
   "metadata": {},
   "source": [
    "#DEF"
   ]
  },
  {
   "cell_type": "code",
   "execution_count": null,
   "metadata": {},
   "outputs": [],
   "source": [
    "#return gives op on other hand print just prints respective"
   ]
  },
  {
   "cell_type": "code",
   "execution_count": 4,
   "metadata": {},
   "outputs": [],
   "source": [
    "def add(a,b):\n",
    "    c=a+b\n",
    "    print('inside func')\n",
    "    return c # OUTPUT IS INT"
   ]
  },
  {
   "cell_type": "code",
   "execution_count": 10,
   "metadata": {},
   "outputs": [],
   "source": [
    "def add1(a,b):\n",
    "    c=a+b\n",
    "    print('inside func')\n",
    "    return f'op is {c}'# OUTPUT IS STRING"
   ]
  },
  {
   "cell_type": "code",
   "execution_count": 8,
   "metadata": {},
   "outputs": [
    {
     "name": "stdout",
     "output_type": "stream",
     "text": [
      "inside func\n"
     ]
    },
    {
     "data": {
      "text/plain": [
       "'op is 5'"
      ]
     },
     "execution_count": 8,
     "metadata": {},
     "output_type": "execute_result"
    }
   ],
   "source": [
    "add(2,3)"
   ]
  },
  {
   "cell_type": "code",
   "execution_count": 11,
   "metadata": {},
   "outputs": [
    {
     "name": "stdout",
     "output_type": "stream",
     "text": [
      "inside func\n"
     ]
    },
    {
     "data": {
      "text/plain": [
       "'op is 5'"
      ]
     },
     "execution_count": 11,
     "metadata": {},
     "output_type": "execute_result"
    }
   ],
   "source": [
    "add1(2,3)"
   ]
  },
  {
   "cell_type": "code",
   "execution_count": null,
   "metadata": {},
   "outputs": [],
   "source": [
    "#global\n",
    "#DOCSTRING"
   ]
  },
  {
   "cell_type": "code",
   "execution_count": null,
   "metadata": {},
   "outputs": [],
   "source": [
    "#4 TYPES OF ARGUMNETS"
   ]
  },
  {
   "cell_type": "code",
   "execution_count": 14,
   "metadata": {},
   "outputs": [],
   "source": [
    "#variable length argument\n",
    "def PCMB(p,c,*s):#*s may accept no value,1,value,nvalue etc its type is tuple\n",
    "   # print(s,type(s))\n",
    "    total=p+c\n",
    "    for i in s:\n",
    "        total=total+int(i)\n",
    "    return total"
   ]
  },
  {
   "cell_type": "code",
   "execution_count": 16,
   "metadata": {},
   "outputs": [
    {
     "data": {
      "text/plain": [
       "490"
      ]
     },
     "execution_count": 16,
     "metadata": {},
     "output_type": "execute_result"
    }
   ],
   "source": [
    "PCMB(2,2,456,30)"
   ]
  },
  {
   "cell_type": "code",
   "execution_count": 1,
   "metadata": {},
   "outputs": [],
   "source": [
    "# variable keyword argument\n",
    "# given as **s"
   ]
  },
  {
   "cell_type": "code",
   "execution_count": 39,
   "metadata": {},
   "outputs": [
    {
     "name": "stdout",
     "output_type": "stream",
     "text": [
      "type1 is : 2\n",
      "type2 is: 1\n",
      "type3 is: (3, 4)\n",
      "type4 is: {'m': 8, 'n': 2}\n"
     ]
    }
   ],
   "source": [
    "def allargs(a,b=1,*c,**d): \n",
    "    print('type1 is :',a)\n",
    "    print('type2 is:',b)\n",
    "    print('type3 is:',c)\n",
    "    print('type4 is:',d)\n",
    "allargs(2,1,3,4,m=8,n=2)\n",
    "\n"
   ]
  },
  {
   "cell_type": "code",
   "execution_count": 46,
   "metadata": {},
   "outputs": [
    {
     "name": "stdout",
     "output_type": "stream",
     "text": [
      "type1 is : 2\n",
      "type2 is: 1\n",
      "type3 is: (3, 4, {'1': 2, '2': 3})\n",
      "type4 is: {}\n"
     ]
    }
   ],
   "source": [
    "dicto1={'1':2,'2':3}\n",
    "allargs(2,1,3,4,dicto1)\n"
   ]
  },
  {
   "cell_type": "code",
   "execution_count": 45,
   "metadata": {},
   "outputs": [
    {
     "name": "stdout",
     "output_type": "stream",
     "text": [
      "type1 is : 2\n",
      "type2 is: 1\n",
      "type3 is: (3, 4)\n",
      "type4 is: {'1': 2, '2': 3}\n"
     ]
    }
   ],
   "source": [
    "dictoo1={'1':2,'2':3}\n",
    "allargs(2,1,3,4,**dictoo1)\n"
   ]
  },
  {
   "cell_type": "code",
   "execution_count": null,
   "metadata": {},
   "outputs": [],
   "source": []
  }
 ],
 "metadata": {
  "kernelspec": {
   "display_name": "Python 3",
   "language": "python",
   "name": "python3"
  },
  "language_info": {
   "codemirror_mode": {
    "name": "ipython",
    "version": 3
   },
   "file_extension": ".py",
   "mimetype": "text/x-python",
   "name": "python",
   "nbconvert_exporter": "python",
   "pygments_lexer": "ipython3",
   "version": "3.12.6"
  }
 },
 "nbformat": 4,
 "nbformat_minor": 2
}
