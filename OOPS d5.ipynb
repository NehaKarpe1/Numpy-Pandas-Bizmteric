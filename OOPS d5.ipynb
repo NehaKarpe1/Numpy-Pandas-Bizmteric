{
 "cells": [
  {
   "cell_type": "code",
   "execution_count": 11,
   "metadata": {},
   "outputs": [],
   "source": [
    "class bizmetric():\n",
    "    work=40\n",
    "     \n",
    "    def joining(name,joining_date):\n",
    "        print('joining date :',joining_date)\n",
    "        print(name.work)\n",
    "             "
   ]
  },
  {
   "cell_type": "code",
   "execution_count": 15,
   "metadata": {},
   "outputs": [],
   "source": [
    "ashwin=bizmetric()\n",
    "\n"
   ]
  },
  {
   "cell_type": "code",
   "execution_count": 17,
   "metadata": {},
   "outputs": [
    {
     "data": {
      "text/plain": [
       "40"
      ]
     },
     "execution_count": 17,
     "metadata": {},
     "output_type": "execute_result"
    }
   ],
   "source": [
    "ashwin.work"
   ]
  },
  {
   "cell_type": "code",
   "execution_count": 18,
   "metadata": {},
   "outputs": [],
   "source": [
    "ashwin.work=80"
   ]
  },
  {
   "cell_type": "code",
   "execution_count": 21,
   "metadata": {},
   "outputs": [
    {
     "name": "stdout",
     "output_type": "stream",
     "text": [
      "joining date : 20\n",
      "80\n"
     ]
    }
   ],
   "source": [
    "bizmetric.joining(ashwin,'20')"
   ]
  },
  {
   "cell_type": "code",
   "execution_count": 21,
   "metadata": {},
   "outputs": [],
   "source": [
    "class Computer:\n",
    "    shop_name='techies'\n",
    "    \n",
    "    def __init__(self):\n",
    "        self.__maxprice=900#maxprice is private\n",
    "        self.model_name='dell'\n",
    "        \n",
    "    def sell(self):\n",
    "        print('selling price:{}',format(self.__maxprice))\n",
    "        \n",
    "    def setMaxprice(self,price):\n",
    "            self.__maxprice=price"
   ]
  },
  {
   "cell_type": "code",
   "execution_count": 23,
   "metadata": {},
   "outputs": [
    {
     "name": "stdout",
     "output_type": "stream",
     "text": [
      "selling price:{} 900\n"
     ]
    }
   ],
   "source": [
    "c=Computer()\n",
    "c.sell()"
   ]
  },
  {
   "cell_type": "code",
   "execution_count": 24,
   "metadata": {},
   "outputs": [
    {
     "name": "stdout",
     "output_type": "stream",
     "text": [
      "selling price:{} 900\n"
     ]
    }
   ],
   "source": [
    "c.sell()"
   ]
  },
  {
   "cell_type": "code",
   "execution_count": 25,
   "metadata": {},
   "outputs": [],
   "source": [
    "c.__maxprice=100"
   ]
  },
  {
   "cell_type": "code",
   "execution_count": 26,
   "metadata": {},
   "outputs": [
    {
     "name": "stdout",
     "output_type": "stream",
     "text": [
      "selling price:{} 900\n"
     ]
    }
   ],
   "source": [
    "c.sell()"
   ]
  },
  {
   "cell_type": "code",
   "execution_count": 30,
   "metadata": {},
   "outputs": [
    {
     "data": {
      "text/plain": [
       "'techies'"
      ]
     },
     "execution_count": 30,
     "metadata": {},
     "output_type": "execute_result"
    }
   ],
   "source": [
    "c.shop_name"
   ]
  },
  {
   "cell_type": "code",
   "execution_count": 33,
   "metadata": {},
   "outputs": [
    {
     "name": "stdout",
     "output_type": "stream",
     "text": [
      "selling price:{} 2000\n"
     ]
    }
   ],
   "source": [
    "c.setMaxprice(2000)\n",
    "\n",
    "c.sell()\n",
    "\n"
   ]
  },
  {
   "cell_type": "code",
   "execution_count": 29,
   "metadata": {},
   "outputs": [
    {
     "name": "stdout",
     "output_type": "stream",
     "text": [
      "selling price:{} 900\n"
     ]
    }
   ],
   "source": [
    "d=Computer()\n",
    "d.sell()"
   ]
  },
  {
   "cell_type": "code",
   "execution_count": 31,
   "metadata": {},
   "outputs": [
    {
     "data": {
      "text/plain": [
       "'techies'"
      ]
     },
     "execution_count": 31,
     "metadata": {},
     "output_type": "execute_result"
    }
   ],
   "source": [
    "d.shop_name"
   ]
  },
  {
   "cell_type": "code",
   "execution_count": null,
   "metadata": {},
   "outputs": [],
   "source": [
    "#public protected is same no much difference"
   ]
  },
  {
   "cell_type": "markdown",
   "metadata": {},
   "source": [
    "#POLYMORPHISM"
   ]
  },
  {
   "cell_type": "markdown",
   "metadata": {},
   "source": [
    "ABSTRACTION"
   ]
  },
  {
   "cell_type": "code",
   "execution_count": 1,
   "metadata": {},
   "outputs": [],
   "source": [
    "'''Write a class BankAccount that implements the following:\n",
    "\n",
    "Private attributes: __balance, __account_number.\n",
    "Public methods:\n",
    "deposit(amount): Adds amount to the balance.\n",
    "withdraw(amount): Subtracts amount from the balance, but only if the balance is sufficient.\n",
    "get_balance(): Returns the current balance.\n",
    "get_account_number(): Returns the account number (read-only).\n",
    "Create an object of BankAccount and test the methods.\n",
    "'''\n",
    "class BankAccount:\n",
    "    def __init__ (self,balance,accountnumber):\n",
    "        self.__balance=balance\n",
    "        self.__acountnumber=accountnumber\n",
    "    def deposit_amount(self,amnt):\n",
    "        print('deposited amount is',amnt)\n",
    "        self.__balance=self.__balance+amnt\n",
    "    def withdraw_amount(self,amnt1):\n",
    "        print('withdrawd amnt is',amnt1)\n",
    "        restamnt=self.__balance=self.__balance-amnt1\n",
    "        print('rest amnt is',restamnt)\n",
    "    def getbalance(self):\n",
    "        print('balance is',self.__balance)\n",
    "    def get_acc_no(self):\n",
    "       print('acc no is',self.__acountnumber)\n",
    "       \n",
    "       "
   ]
  },
  {
   "cell_type": "code",
   "execution_count": 16,
   "metadata": {},
   "outputs": [
    {
     "data": {
      "text/plain": [
       "1000"
      ]
     },
     "execution_count": 16,
     "metadata": {},
     "output_type": "execute_result"
    }
   ],
   "source": [
    "b=BankAccount(1000,123)\n",
    "b._BankAccount__balance\n"
   ]
  },
  {
   "cell_type": "code",
   "execution_count": 17,
   "metadata": {},
   "outputs": [
    {
     "name": "stdout",
     "output_type": "stream",
     "text": [
      "deposited amount is 100\n"
     ]
    }
   ],
   "source": [
    "b.deposit_amount(100)"
   ]
  },
  {
   "cell_type": "code",
   "execution_count": 18,
   "metadata": {},
   "outputs": [
    {
     "data": {
      "text/plain": [
       "1100"
      ]
     },
     "execution_count": 18,
     "metadata": {},
     "output_type": "execute_result"
    }
   ],
   "source": [
    "b._BankAccount__balance"
   ]
  },
  {
   "cell_type": "code",
   "execution_count": 19,
   "metadata": {},
   "outputs": [
    {
     "data": {
      "text/plain": [
       "1100"
      ]
     },
     "execution_count": 19,
     "metadata": {},
     "output_type": "execute_result"
    }
   ],
   "source": [
    "b._BankAccount__balance"
   ]
  },
  {
   "cell_type": "code",
   "execution_count": 20,
   "metadata": {},
   "outputs": [
    {
     "name": "stdout",
     "output_type": "stream",
     "text": [
      "withdrawd amnt is 100\n",
      "rest amnt is 1000\n"
     ]
    }
   ],
   "source": [
    "b.withdraw_amount(100)"
   ]
  },
  {
   "cell_type": "code",
   "execution_count": 21,
   "metadata": {},
   "outputs": [
    {
     "name": "stdout",
     "output_type": "stream",
     "text": [
      "balance is 1000\n"
     ]
    }
   ],
   "source": [
    "b.getbalance()"
   ]
  },
  {
   "cell_type": "code",
   "execution_count": 22,
   "metadata": {},
   "outputs": [
    {
     "data": {
      "text/plain": [
       "1000"
      ]
     },
     "execution_count": 22,
     "metadata": {},
     "output_type": "execute_result"
    }
   ],
   "source": [
    "b._BankAccount__balance"
   ]
  },
  {
   "cell_type": "markdown",
   "metadata": {},
   "source": [
    "#POLYMORPHISM"
   ]
  },
  {
   "cell_type": "code",
   "execution_count": 31,
   "metadata": {},
   "outputs": [
    {
     "name": "stdout",
     "output_type": "stream",
     "text": [
      "Animal makes a sound\n",
      "Dog barks\n",
      "Cat meows\n"
     ]
    }
   ],
   "source": [
    "class Animal:\n",
    "    def speak(self):\n",
    "        print(\"Animal makes a sound\")\n",
    "\n",
    "class Dog(Animal):\n",
    "    def speak(self):\n",
    "        super().speak()\n",
    "        print(\"Dog barks\")\n",
    "\n",
    "class Cat(Dog):\n",
    "    def speak(self):\n",
    "        super().speak()\n",
    "        print(\"Cat meows\")\n",
    "\n",
    "d=Dog()\n",
    "# d.speak()\n",
    "c=Cat()\n",
    "c.speak()\n"
   ]
  },
  {
   "cell_type": "markdown",
   "metadata": {},
   "source": [
    "# overridding two classes(one super other child)  two same names foor method but different working\n"
   ]
  },
  {
   "cell_type": "code",
   "execution_count": 32,
   "metadata": {},
   "outputs": [],
   "source": [
    "class Animal:  # Parent class\n",
    "    def speak(self):\n",
    "        return \"I make a sound\"\n",
    "\n",
    "class Dog(Animal):  # Inherits from Animal\n",
    "    def speak(self):\n",
    "        return \"Woof!\"  # Overrides the parent class's speak()\n",
    "\n",
    "class Cat(Animal):  # Inherits from Animal\n",
    "    def speak(self):\n",
    "        return \"Meow!\"  # Overrides the parent class's speak()\n",
    "\n"
   ]
  },
  {
   "cell_type": "code",
   "execution_count": 35,
   "metadata": {},
   "outputs": [
    {
     "data": {
      "text/plain": [
       "'I make a sound'"
      ]
     },
     "execution_count": 35,
     "metadata": {},
     "output_type": "execute_result"
    }
   ],
   "source": [
    "d=Animal()\n",
    "d.speak()\n",
    "\n",
    "\n"
   ]
  },
  {
   "cell_type": "code",
   "execution_count": 33,
   "metadata": {},
   "outputs": [
    {
     "name": "stdout",
     "output_type": "stream",
     "text": [
      "Woof!\n",
      "Meow!\n",
      "I make a sound\n"
     ]
    }
   ],
   "source": [
    "# Polymorphism with Inheritance\n",
    "animals = [Dog(), Cat(), Animal()]\n",
    "for animal in animals:\n",
    "    print(animal.speak())\n"
   ]
  },
  {
   "cell_type": "code",
   "execution_count": null,
   "metadata": {},
   "outputs": [],
   "source": [
    "'''Requirements:\n",
    "Decorator: Create a decorator role_required that:\n",
    "Accepts a list of roles as its argument.\n",
    "Checks if the user's role matches any of the roles in the list.\n",
    "If the user has the required role, the function should execute.\n",
    "If not, raise a PermissionDenied exception with the message: \"User does not have the required role.\"\n",
    "User Object: You have a User object that has attributes username and role (e.g., admin, editor, viewer).\n",
    "Apply this decorator to functions and test it with users of different roles.'''\n",
    "\n",
    "list1=['admin','user','editor']\n",
    "class user:\n",
    "  def __init__(self,name,role):\n",
    "   self.name=name\n",
    "   self.role=role\n",
    "\n",
    "u=user('naha','user1')\n",
    "        \n",
    "def mydec(fx):\n",
    "    def mfx(user,*args):\n",
    "      \n",
    "      if user.role not in list1:\n",
    "        raise Permissiondenied('User does not have the required role.')\n",
    "      else:\n",
    "        return fx(*args)\n",
    "    return mfx\n",
    "@mydec\n",
    "def view_mks():\n",
    "    print('mks viewed succesfully')"
   ]
  }
 ],
 "metadata": {
  "kernelspec": {
   "display_name": "Python 3",
   "language": "python",
   "name": "python3"
  },
  "language_info": {
   "codemirror_mode": {
    "name": "ipython",
    "version": 3
   },
   "file_extension": ".py",
   "mimetype": "text/x-python",
   "name": "python",
   "nbconvert_exporter": "python",
   "pygments_lexer": "ipython3",
   "version": "3.12.6"
  }
 },
 "nbformat": 4,
 "nbformat_minor": 2
}
