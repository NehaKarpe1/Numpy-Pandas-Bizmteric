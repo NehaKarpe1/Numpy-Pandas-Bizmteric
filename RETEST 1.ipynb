{
 "cells": [
  {
   "cell_type": "markdown",
   "metadata": {},
   "source": [
    "'''create a function to calculate maturity amount of FD. User will provide the date of birth, amount and maturity slab. \n",
    "based on the input return the maturity amount. if the person is senior citizen then 0.5 extra interest rate\n",
    "\n",
    "maturity amtount =  deposit amount * interest rate\n",
    "\n",
    "Note: Write a code with proper docstring, exception and log file"
   ]
  },
  {
   "cell_type": "code",
   "execution_count": 62,
   "metadata": {},
   "outputs": [],
   "source": [
    "import datetime \n",
    "from datetime import date,time\n",
    "from datetime import datetime\n",
    "import logging \n",
    "logging.basicConfig(filename='Test.log',level=logging.info)\n",
    "logger=logging.getLogger('tester')\n",
    "curr_year=datetime.now().year\n",
    "\n",
    "def cal_age():\n",
    "  try:\n",
    "    DOB1=input('enter birthdate in YYYY-MM-DD')\n",
    "    dob=datetime.strptime(DOB1,'%Y-%m-%d')\n",
    "    print(dob)\n",
    "    birth_year=dob.year \n",
    "    age=curr_year-birth_year-1\n",
    "    \n",
    "  except ValueError:\n",
    "    print(' enter valid birthdate no letters,special characters allowed. Make sure the range of month is 1 to 12 and days 1 to 31')\n",
    "  return age\n"
   ]
  },
  {
   "cell_type": "code",
   "execution_count": 51,
   "metadata": {},
   "outputs": [
    {
     "name": "stdout",
     "output_type": "stream",
     "text": [
      "2002-10-26 00:00:00\n"
     ]
    },
    {
     "data": {
      "text/plain": [
       "'your age is 22'"
      ]
     },
     "execution_count": 51,
     "metadata": {},
     "output_type": "execute_result"
    }
   ],
   "source": [
    "cal_age()"
   ]
  },
  {
   "cell_type": "code",
   "execution_count": null,
   "metadata": {},
   "outputs": [],
   "source": [
    "import logging"
   ]
  },
  {
   "cell_type": "code",
   "execution_count": 56,
   "metadata": {},
   "outputs": [],
   "source": [
    "details={'0d-6d':0,'7d-30d':3,'31d-45d':3.25,'46d-60d':4.5,'61d-90d':4.75,'91d-6m':5.50,'6m1d-270d':6.0,'271d-<1yr':6.25,'1yr-2yr':6.80,'<2yr-<3yr':7.0}\n",
    "def mat_amt():\n",
    "    age1 = cal_age()\n",
    "    print('abg is',age1)\n",
    "    tenure=input('CHOOSE TENURE FROM DETAILS')\n",
    "    try:\n",
    "      if tenure in dict.keys():\n",
    "        print('valid tenure')\n",
    "      else:\n",
    "        raise Exception\n",
    "    except :\n",
    "      print('select tenure only from details')\n",
    "    amount=input('enter your amount deposited')\n",
    "    try:\n",
    "      int(amount)\n",
    "    except ValueError:\n",
    "      print('only numbers')\n",
    "    except NameError:\n",
    "      print('only numbers')\n",
    "    if age1 <=50:\n",
    "      interest_amount=details[tenure] \n",
    "      print('you maturity amount is',amount*interest_amount) \n",
    "    else:\n",
    "        interest_amount=details[tenure]+0.50\n",
    "        print('Your maturity amount is',amount*interest_amount)\n",
    "        "
   ]
  },
  {
   "cell_type": "code",
   "execution_count": 77,
   "metadata": {},
   "outputs": [],
   "source": [
    "details={'0d-6d':0,'7d-30d':3,'31d-45d':3.25,'46d-60d':4.5,'61d-90d':4.75,'91d-6m':5.50,'6m1d-270d':6.0,'271d-<1yr':6.25,'1yr-2yr':6.80,'<2yr-<3yr':7.0}\n",
    "def mat_amt1():\n",
    "    age1 = cal_age()\n",
    "    int(age1)\n",
    "    print('abg is',age1)\n",
    "    tenure=input('CHOOSE TENURE FROM DETAILS')\n",
    "    try:\n",
    "      if tenure in dict.keys():\n",
    "        print('valid tenure')\n",
    "      else:\n",
    "        raise Exception\n",
    "    except :\n",
    "      print('select tenure only from details')\n",
    "    amount=int(input('enter your amount deposited'))\n",
    "    #(int(amount))\n",
    "    try:\n",
    "      a1= int(amount)\n",
    "    except ValueError:\n",
    "      print('only numbers')\n",
    "    except NameError:\n",
    "      print('only numbers')\n",
    "    if age1 <=50:\n",
    "      interest_amount=details[tenure] \n",
    "      print('young boy/girl maturity amount is',a1*interest_amount) \n",
    "    else:\n",
    "        interest_amount=details[tenure]+0.50\n",
    "        print('Your maturity amount is',a1*interest_amount)\n",
    "        "
   ]
  },
  {
   "cell_type": "code",
   "execution_count": 76,
   "metadata": {},
   "outputs": [
    {
     "name": "stdout",
     "output_type": "stream",
     "text": [
      "2002-10-26 00:00:00\n",
      "abg is 22\n",
      "select tenure only from details\n",
      "young boy/girl maturity amount is 7000.0\n"
     ]
    }
   ],
   "source": [
    "mat_amt1()"
   ]
  }
 ],
 "metadata": {
  "kernelspec": {
   "display_name": "Python 3",
   "language": "python",
   "name": "python3"
  },
  "language_info": {
   "codemirror_mode": {
    "name": "ipython",
    "version": 3
   },
   "file_extension": ".py",
   "mimetype": "text/x-python",
   "name": "python",
   "nbconvert_exporter": "python",
   "pygments_lexer": "ipython3",
   "version": "3.12.6"
  }
 },
 "nbformat": 4,
 "nbformat_minor": 2
}
