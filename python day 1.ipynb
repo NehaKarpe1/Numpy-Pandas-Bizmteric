{
 "cells": [
  {
   "cell_type": "code",
   "execution_count": 6,
   "metadata": {},
   "outputs": [
    {
     "name": "stdout",
     "output_type": "stream",
     "text": [
      "Hello World\n",
      "<class 'int'>\n"
     ]
    }
   ],
   "source": [
    "\n",
    "print('Hello World')\n",
    "\n",
    "\n",
    "#markdown,variable,datatype,typecasting,docstring\n",
    "# Note-everything is object \n",
    "a=10\n",
    "print(type(a))"
   ]
  },
  {
   "cell_type": "code",
   "execution_count": null,
   "metadata": {},
   "outputs": [],
   "source": [
    "#BLOCKS\n",
    "#if,elif,else,for(iterative),while(iterative)\n",
    "#exception blocks: TRY,EXCEPT,FINALLY\n",
    "#fUNCTION,GENERATORS,DECORATORS\n",
    "#classes\n",
    "#add try except in every function"
   ]
  },
  {
   "cell_type": "code",
   "execution_count": 6,
   "metadata": {},
   "outputs": [
    {
     "data": {
      "text/plain": [
       "tuple"
      ]
     },
     "execution_count": 6,
     "metadata": {},
     "output_type": "execute_result"
    }
   ],
   "source": [
    "c=(10,20)\n",
    "type(c)\n",
    "\n"
   ]
  },
  {
   "cell_type": "code",
   "execution_count": 7,
   "metadata": {},
   "outputs": [
    {
     "data": {
      "text/plain": [
       "True"
      ]
     },
     "execution_count": 7,
     "metadata": {},
     "output_type": "execute_result"
    }
   ],
   "source": [
    "a,b=10,20\n",
    "cond1=a<b\n",
    "cond2=a in c\n",
    "cond1 and cond2\n",
    "\n",
    "\n"
   ]
  },
  {
   "cell_type": "code",
   "execution_count": null,
   "metadata": {},
   "outputs": [
    {
     "name": "stdout",
     "output_type": "stream",
     "text": [
      "c\n"
     ]
    }
   ],
   "source": [
    "cond1=a>b\n",
    "cond2=15 in c\n",
    "if cond1 and cond2:#STAR\n",
    "    print('a')\n",
    "elif cond2:\n",
    "    print('b')\n",
    "else:\n",
    "    print('c')\n",
    "    "
   ]
  },
  {
   "cell_type": "code",
   "execution_count": 88,
   "metadata": {},
   "outputs": [
    {
     "name": "stdout",
     "output_type": "stream",
     "text": [
      "c\n"
     ]
    }
   ],
   "source": [
    "if cond1 or cond2:#STAR\n",
    "    print('a')\n",
    "elif cond2:\n",
    "    print('b')\n",
    "else:\n",
    "    print('c')"
   ]
  },
  {
   "cell_type": "code",
   "execution_count": 14,
   "metadata": {},
   "outputs": [
    {
     "data": {
      "text/plain": [
       "1"
      ]
     },
     "execution_count": 14,
     "metadata": {},
     "output_type": "execute_result"
    }
   ],
   "source": [
    "l1=[1,2,3,4,'str',[1,2,3]]\n",
    "t1=(1,2,3,4,'str',[1,2,3])\n",
    "s1={1,2,3,4,'str'}\n",
    "l1[0]"
   ]
  },
  {
   "cell_type": "code",
   "execution_count": null,
   "metadata": {},
   "outputs": [
    {
     "data": {
      "text/plain": [
       "3"
      ]
     },
     "execution_count": 23,
     "metadata": {},
     "output_type": "execute_result"
    }
   ],
   "source": [
    "#slicing sublist \n",
    "l1[5][1]\n",
    "#slicing tuple\n",
    "t1[5][2]\n",
    "#list vs tuple with  uses, use in self database \n",
    "\n",
    " "
   ]
  },
  {
   "cell_type": "code",
   "execution_count": null,
   "metadata": {},
   "outputs": [],
   "source": [
    "#SET \n",
    "#uses hash index/modified index\n",
    "#to access elements in set use iterative methods \n",
    "\n"
   ]
  },
  {
   "cell_type": "code",
   "execution_count": 27,
   "metadata": {},
   "outputs": [],
   "source": [
    "#Dictionary\n",
    "d1={'a':1,'b':2}\n"
   ]
  },
  {
   "cell_type": "code",
   "execution_count": null,
   "metadata": {},
   "outputs": [
    {
     "name": "stdout",
     "output_type": "stream",
     "text": [
      "['abc', 'abc', 'abc', 'abc', 1, 2, 3, 4, [1, 2, 3], 'abc', 'abc', 'a', 'b', 'c', 'abc', 'a', 'b', 'c', 'abc', 'a', 'b', 'c', 'abc', 'a', 'b', 'c', 'abc', 'a', 'b', 'c', 'a', 'b', 'a', 'b', 'abc', 'a', 'b', 'abc', 'a', 'b', 'abc', 'a', 'b', 'abc', 'a', 'b', 'abc', 'a', 'b', 'abc', 'a', 'b', 'abc']\n",
      "['abc', 'abc', 'abc', 'abc', 1, 2, 3, 4, [1, 2, 3], 'abc', 'abc', 'a', 'b', 'c', 'abc', 'a', 'b', 'c', 'abc', 'a', 'b', 'c', 'abc', 'a', 'b', 'c', 'abc', 'a', 'b', 'c', 'a', 'b', 'a', 'b', 'abc', 'a', 'b', 'abc', 'a', 'b', 'abc', 'a', 'b', 'abc', 'a', 'b', 'abc', 'a', 'b', 'abc', 'a', 'b', 'abc', 'a', 'b', 'c']\n",
      "['abc', 'abc', 'abc', 'abc', 'abc', 1, 2, 3, 4, [1, 2, 3], 'abc', 'abc', 'a', 'b', 'c', 'abc', 'a', 'b', 'c', 'abc', 'a', 'b', 'c', 'abc', 'a', 'b', 'c', 'abc', 'a', 'b', 'c', 'a', 'b', 'a', 'b', 'abc', 'a', 'b', 'abc', 'a', 'b', 'abc', 'a', 'b', 'abc', 'a', 'b', 'abc', 'a', 'b', 'abc', 'a', 'b', 'abc', 'a', 'b', 'c']\n",
      "['abc', 'abc', 'abc', 'abc', 1, 2, 3, 4, [1, 2, 3], 'abc', 'abc', 'a', 'b', 'c', 'abc', 'a', 'b', 'c', 'abc', 'a', 'b', 'c', 'abc', 'a', 'b', 'c', 'abc', 'a', 'b', 'c', 'a', 'b', 'a', 'b', 'abc', 'a', 'b', 'abc', 'a', 'b', 'abc', 'a', 'b', 'abc', 'a', 'b', 'abc', 'a', 'b', 'abc', 'a', 'b', 'abc', 'a', 'b']\n"
     ]
    },
    {
     "ename": "TypeError",
     "evalue": "unhashable type: 'list'",
     "output_type": "error",
     "traceback": [
      "\u001b[1;31m---------------------------------------------------------------------------\u001b[0m",
      "\u001b[1;31mTypeError\u001b[0m                                 Traceback (most recent call last)",
      "Cell \u001b[1;32mIn[46], line 13\u001b[0m\n\u001b[0;32m     11\u001b[0m \u001b[38;5;66;03m#l1.remove('str')#remove based on values, if values repeated multiple times it will remove first value\u001b[39;00m\n\u001b[0;32m     12\u001b[0m \u001b[38;5;28mprint\u001b[39m(l1)\n\u001b[1;32m---> 13\u001b[0m \u001b[38;5;28mprint\u001b[39m(\u001b[38;5;28;43mset\u001b[39;49m\u001b[43m(\u001b[49m\u001b[43ml1\u001b[49m\u001b[43m)\u001b[49m)\n\u001b[0;32m     14\u001b[0m \u001b[38;5;28;01mdel\u001b[39;00m l1[\u001b[38;5;241m9\u001b[39m]\n",
      "\u001b[1;31mTypeError\u001b[0m: unhashable type: 'list'"
     ]
    }
   ],
   "source": [
    "#add new values in list\n",
    "l1.append('abc')\n",
    "print(l1)\n",
    "l1.extend('abc')#for multiple \n",
    "print(l1)\n",
    "l1.insert(0,'abc')\n",
    "print(l1)\n",
    "#l1.extend(2) gives error\n",
    "l1.pop()\n",
    "l1.pop(1)#index based removing\n",
    "#l1.remove('str')#remove based on values, if values repeated multiple times it will remove first value\n",
    "print(l1)\n",
    "\n",
    "del l1[9] #STAR"
   ]
  },
  {
   "cell_type": "markdown",
   "metadata": {},
   "source": [
    "my_list = [1, 2, 3]\n",
    "my_list.append([4, 5])  # Adds the list [4, 5] as a single element\n",
    "print(my_list)  # Output: [1, 2, 3, [4, 5]]\n",
    "\n",
    "my_list = [1, 2, 3]\n",
    "my_list.extend([4, 5])  # Adds the elements 4 and 5 to the list\n",
    "print(my_list)  # Output: [1, 2, 3, 4, 5]\n"
   ]
  },
  {
   "cell_type": "code",
   "execution_count": null,
   "metadata": {},
   "outputs": [
    {
     "data": {
      "text/plain": [
       "['abc',\n",
       " 'abc',\n",
       " 'abc',\n",
       " 'abc',\n",
       " 1,\n",
       " 2,\n",
       " 3,\n",
       " 4,\n",
       " [1, 1, 1, 2, 3, 2, 2],\n",
       " 'abc',\n",
       " 'abc',\n",
       " 'a',\n",
       " 'b',\n",
       " 'c',\n",
       " 'abc',\n",
       " 'a',\n",
       " 'b',\n",
       " 'c',\n",
       " 'abc',\n",
       " 'a',\n",
       " 'b',\n",
       " 'c',\n",
       " 'abc',\n",
       " 'a',\n",
       " 'b',\n",
       " 'c',\n",
       " 'abc',\n",
       " 'a',\n",
       " 'b',\n",
       " 'c',\n",
       " 'a',\n",
       " 'b',\n",
       " 'a',\n",
       " 'b',\n",
       " 'abc',\n",
       " 'a',\n",
       " 'b',\n",
       " 'abc',\n",
       " 'a',\n",
       " 'b',\n",
       " 'abc',\n",
       " 'a',\n",
       " 'b',\n",
       " 'abc',\n",
       " 'a',\n",
       " 'b',\n",
       " 'abc',\n",
       " 'a',\n",
       " 'b',\n",
       " 'abc',\n",
       " 'a',\n",
       " 'b',\n",
       " 'abc',\n",
       " 'a',\n",
       " 'b']"
      ]
     },
     "execution_count": 51,
     "metadata": {},
     "output_type": "execute_result"
    }
   ],
   "source": [
    "# adding in sublist\n",
    "l1[8].append(2)\n",
    "\n",
    "l1[8].insert(0,1)\n",
    "l1"
   ]
  },
  {
   "cell_type": "code",
   "execution_count": 54,
   "metadata": {},
   "outputs": [
    {
     "data": {
      "text/plain": [
       "17"
      ]
     },
     "execution_count": 54,
     "metadata": {},
     "output_type": "execute_result"
    }
   ],
   "source": [
    "l1.count('abc')"
   ]
  },
  {
   "cell_type": "code",
   "execution_count": 55,
   "metadata": {},
   "outputs": [
    {
     "data": {
      "text/plain": [
       "3"
      ]
     },
     "execution_count": 55,
     "metadata": {},
     "output_type": "execute_result"
    }
   ],
   "source": [
    "l1[8].count(1)"
   ]
  },
  {
   "cell_type": "code",
   "execution_count": 57,
   "metadata": {},
   "outputs": [
    {
     "name": "stdout",
     "output_type": "stream",
     "text": [
      "['abc', 'abc', 'abc', 'abc', 1, 2, 3, 4, [10, 1, 1, 2, 3, 2, 2], 'abc', 'abc', 'a', 'b', 'c', 'abc', 'a', 'b', 'c', 'abc', 'a', 'b', 'c', 'abc', 'a', 'b', 'c', 'abc', 'a', 'b', 'c', 'a', 'b', 'a', 'b', 'abc', 'a', 'b', 'abc', 'a', 'b', 'abc', 'a', 'b', 'abc', 'a', 'b', 'abc', 'a', 'b', 'abc', 'a', 'b', 'abc', 'a', 'b']\n"
     ]
    }
   ],
   "source": [
    "#chnaging values \n",
    "l1[8][0]=10\n",
    "print(l1)"
   ]
  },
  {
   "cell_type": "markdown",
   "metadata": {},
   "source": [
    "1. clear:\n",
    "Purpose: Empties the contents of a mutable object (like a list or dictionary) without removing the object itself.\n",
    "my_data = (1, [9, 8, 7], \"World\")\n",
    "my_data[1].clear()  # Clears the list inside the tuple\n",
    "print(my_data)  # Output: (1, [], \"World\")\n",
    "Purpose: Deletes an object or a specific item within an object entirely.\n",
    "\n",
    "Effect: After using del, the object or item is removed from memory (or its containing object). If you try to access the deleted object, Python raises an error.\n",
    "my_data = (1, [9, 8, 7], \"World\")\n",
    "del my_data[1][0]  # Deletes the first element of the list\n",
    "print(my_data)  # Output: (1, [8, 7], \"World\")\n"
   ]
  },
  {
   "cell_type": "code",
   "execution_count": 59,
   "metadata": {},
   "outputs": [
    {
     "name": "stdout",
     "output_type": "stream",
     "text": [
      "['abc', 'abc', 'abc', 'abc', 1, 2, 3, 4, [1, 1, 2, 2, 2, 3, 10], 'abc', 'abc', 'a', 'b', 'c', 'abc', 'a', 'b', 'c', 'abc', 'a', 'b', 'c', 'abc', 'a', 'b', 'c', 'abc', 'a', 'b', 'c', 'a', 'b', 'a', 'b', 'abc', 'a', 'b', 'abc', 'a', 'b', 'abc', 'a', 'b', 'abc', 'a', 'b', 'abc', 'a', 'b', 'abc', 'a', 'b', 'abc', 'a', 'b']\n"
     ]
    }
   ],
   "source": [
    "#l1.sort doesnt work for mixed datatypes\n",
    "l1[8].sort()\n",
    "print(l1)"
   ]
  },
  {
   "cell_type": "code",
   "execution_count": null,
   "metadata": {},
   "outputs": [],
   "source": [
    "l2=l1.copy()# chnages dont get refelected\n",
    "l1=l3# changes get reflected"
   ]
  },
  {
   "cell_type": "code",
   "execution_count": null,
   "metadata": {},
   "outputs": [
    {
     "name": "stdout",
     "output_type": "stream",
     "text": [
      "['abc', 'abc', 'abc', 'abc', 1, 2, 3, 4, [1, 1, 2, 2, 2, 3, 10], 'abc', 'abc', 'a', 'b', 'c', 'abc', 'a', 'b', 'c', 'abc', 'a', 'b', 'c', 'abc', 'a', 'b', 'c', 'abc', 'a', 'b', 'c', 'a', 'b', 'a', 'b', 'abc', 'a', 'b', 'abc', 'a', 'b', 'abc', 'a', 'b', 'abc', 'a', 'b', 'abc', 'a', 'b', 'abc', 'a', 'b', 'abc', 'a', 'b']\n"
     ]
    }
   ],
   "source": [
    "l1.reverse()#STAR\n",
    "print(l1)"
   ]
  },
  {
   "cell_type": "code",
   "execution_count": 38,
   "metadata": {},
   "outputs": [
    {
     "name": "stdout",
     "output_type": "stream",
     "text": [
      "[1, 2, 'a', 'b']\n",
      "[1, 2, 'a', 'b', 'c']\n"
     ]
    }
   ],
   "source": [
    "#adding a dict to list\n",
    "l2=[1,2]\n",
    "l2.extend(d1)\n",
    "print(l2)\n",
    "d2={'c':4}\n",
    "l2.extend(d2)\n",
    "print(l2)"
   ]
  },
  {
   "cell_type": "code",
   "execution_count": 65,
   "metadata": {},
   "outputs": [
    {
     "name": "stdout",
     "output_type": "stream",
     "text": [
      "abc\n",
      "abc\n",
      "abc\n",
      "abc\n",
      "1\n",
      "2\n",
      "3\n",
      "4\n",
      "[1, 1, 2, 2, 2, 3, 10]\n",
      "abc\n",
      "abc\n",
      "a\n",
      "b\n",
      "c\n",
      "abc\n",
      "a\n",
      "b\n",
      "c\n",
      "abc\n",
      "a\n",
      "b\n",
      "c\n",
      "abc\n",
      "a\n",
      "b\n",
      "c\n",
      "abc\n",
      "a\n",
      "b\n",
      "c\n",
      "a\n",
      "b\n",
      "a\n",
      "b\n",
      "abc\n",
      "a\n",
      "b\n",
      "abc\n",
      "a\n",
      "b\n",
      "abc\n",
      "a\n",
      "b\n",
      "abc\n",
      "a\n",
      "b\n",
      "abc\n",
      "a\n",
      "b\n",
      "abc\n",
      "a\n",
      "b\n",
      "abc\n",
      "a\n",
      "b\n"
     ]
    }
   ],
   "source": [
    "#FOR LOOP and LIST COMPREHENSION\n",
    "for i in l2:\n",
    "    print(i)\n"
   ]
  },
  {
   "cell_type": "code",
   "execution_count": 73,
   "metadata": {},
   "outputs": [],
   "source": [
    "alpha=[]\n",
    "NUM=[]\n",
    "DICT=[]\n",
    "list=[]\n",
    "for i in l2:#verify STAR\n",
    "    if type(i)==type('a'):\n",
    "        alpha.append(i)\n",
    "    elif type(i)==type(2):\n",
    "        NUM.append(i)\n",
    "    elif type(i)==type({'c':4}):\n",
    "             DICT.append(i)\n",
    "    elif type(i)==type([1,2]):\n",
    "         list.append(i)"
   ]
  },
  {
   "cell_type": "code",
   "execution_count": 74,
   "metadata": {},
   "outputs": [
    {
     "name": "stdout",
     "output_type": "stream",
     "text": [
      "['abc', 'abc', 'abc', 'abc', 'abc', 'abc', 'a', 'b', 'c', 'abc', 'a', 'b', 'c', 'abc', 'a', 'b', 'c', 'abc', 'a', 'b', 'c', 'abc', 'a', 'b', 'c', 'a', 'b', 'a', 'b', 'abc', 'a', 'b', 'abc', 'a', 'b', 'abc', 'a', 'b', 'abc', 'a', 'b', 'abc', 'a', 'b', 'abc', 'a', 'b', 'abc', 'a', 'b']\n",
      "[1, 2, 3, 4]\n",
      "[]\n",
      "[[1, 1, 2, 2, 2, 3, 10]]\n"
     ]
    }
   ],
   "source": [
    "print(alpha)\n",
    "print(NUM)\n",
    "print(DICT)\n",
    "print(list)"
   ]
  },
  {
   "cell_type": "code",
   "execution_count": 66,
   "metadata": {},
   "outputs": [
    {
     "data": {
      "text/plain": [
       "int"
      ]
     },
     "execution_count": 66,
     "metadata": {},
     "output_type": "execute_result"
    }
   ],
   "source": [
    "type(2)"
   ]
  },
  {
   "cell_type": "code",
   "execution_count": 78,
   "metadata": {},
   "outputs": [
    {
     "name": "stdout",
     "output_type": "stream",
     "text": [
      "[2, 5, 8, 11, 14, 17]\n"
     ]
    }
   ],
   "source": [
    "emp_list=[]\n",
    "for i in range(2,20,3):\n",
    "    emp_list.append(i)\n",
    "print(emp_list)"
   ]
  },
  {
   "cell_type": "code",
   "execution_count": 81,
   "metadata": {},
   "outputs": [
    {
     "name": "stdout",
     "output_type": "stream",
     "text": [
      "[2, 4, 6, 8, 10, 12, 14, 16, 18]\n"
     ]
    }
   ],
   "source": [
    "emp_list=[i for i in range(2,20,2)]\n",
    "print(emp_list)\n"
   ]
  },
  {
   "cell_type": "code",
   "execution_count": 82,
   "metadata": {},
   "outputs": [
    {
     "name": "stdout",
     "output_type": "stream",
     "text": [
      "[4, 8, 12, 16]\n"
     ]
    }
   ],
   "source": [
    "emp_list=[i for i in range(2,20,2) if i%4==0]\n",
    "print(emp_list)\n"
   ]
  },
  {
   "cell_type": "code",
   "execution_count": 83,
   "metadata": {},
   "outputs": [
    {
     "name": "stdout",
     "output_type": "stream",
     "text": [
      "[8, 16, 24, 32]\n"
     ]
    }
   ],
   "source": [
    "emp_list=[i*2 for i in range(2,20,2) if i%4==0]\n",
    "print(emp_list)"
   ]
  },
  {
   "cell_type": "code",
   "execution_count": 85,
   "metadata": {},
   "outputs": [
    {
     "name": "stdout",
     "output_type": "stream",
     "text": [
      "[-1, 4, -1, 8, -1, 12, -1, 16, -1]\n"
     ]
    }
   ],
   "source": [
    "emp_list=[i if i%4==0 else -1 for i in range(2,20,2) ]\n",
    "print(emp_list)"
   ]
  },
  {
   "cell_type": "code",
   "execution_count": 86,
   "metadata": {},
   "outputs": [],
   "source": [
    "if False:\n",
    "    print('a')"
   ]
  },
  {
   "cell_type": "code",
   "execution_count": null,
   "metadata": {},
   "outputs": [],
   "source": [
    "# missed tuples slicing ,remove,discard of set,tuple index\n",
    "# NOTE type of key in dict shld be no,float,tuples"
   ]
  },
  {
   "cell_type": "code",
   "execution_count": 120,
   "metadata": {},
   "outputs": [
    {
     "data": {
      "text/plain": [
       "{1, 2, 3}"
      ]
     },
     "execution_count": 120,
     "metadata": {},
     "output_type": "execute_result"
    }
   ],
   "source": [
    "s1={1,2}\n",
    "s2={2,3}\n",
    "s1.union(s2)"
   ]
  },
  {
   "cell_type": "code",
   "execution_count": 121,
   "metadata": {},
   "outputs": [
    {
     "data": {
      "text/plain": [
       "{2}"
      ]
     },
     "execution_count": 121,
     "metadata": {},
     "output_type": "execute_result"
    }
   ],
   "source": [
    "s1.intersection(s2)"
   ]
  },
  {
   "cell_type": "code",
   "execution_count": 122,
   "metadata": {},
   "outputs": [
    {
     "data": {
      "text/plain": [
       "{1}"
      ]
     },
     "execution_count": 122,
     "metadata": {},
     "output_type": "execute_result"
    }
   ],
   "source": [
    "s1.difference(s2)"
   ]
  },
  {
   "cell_type": "code",
   "execution_count": 123,
   "metadata": {},
   "outputs": [
    {
     "data": {
      "text/plain": [
       "{1, 3}"
      ]
     },
     "execution_count": 123,
     "metadata": {},
     "output_type": "execute_result"
    }
   ],
   "source": [
    "s1.symmetric_difference(s2)"
   ]
  },
  {
   "cell_type": "code",
   "execution_count": 95,
   "metadata": {},
   "outputs": [],
   "source": [
    "d1={'a':10}\n",
    "d2={'b':20,'y':[1,2]}"
   ]
  },
  {
   "cell_type": "code",
   "execution_count": 92,
   "metadata": {},
   "outputs": [],
   "source": [
    "d1.update(d2)"
   ]
  },
  {
   "cell_type": "code",
   "execution_count": 97,
   "metadata": {},
   "outputs": [
    {
     "data": {
      "text/plain": [
       "2"
      ]
     },
     "execution_count": 97,
     "metadata": {},
     "output_type": "execute_result"
    }
   ],
   "source": [
    "d2['y'][1]"
   ]
  },
  {
   "cell_type": "code",
   "execution_count": 100,
   "metadata": {},
   "outputs": [
    {
     "data": {
      "text/plain": [
       "{'y': None}"
      ]
     },
     "execution_count": 100,
     "metadata": {},
     "output_type": "execute_result"
    }
   ],
   "source": [
    "d2.fromkeys('y')"
   ]
  },
  {
   "cell_type": "code",
   "execution_count": null,
   "metadata": {},
   "outputs": [
    {
     "ename": "KeyError",
     "evalue": "1",
     "output_type": "error",
     "traceback": [
      "\u001b[1;31m---------------------------------------------------------------------------\u001b[0m",
      "\u001b[1;31mKeyError\u001b[0m                                  Traceback (most recent call last)",
      "Cell \u001b[1;32mIn[108], line 2\u001b[0m\n\u001b[0;32m      1\u001b[0m a\u001b[38;5;241m=\u001b[39md2\u001b[38;5;241m.\u001b[39mfromkeys(\u001b[38;5;124m'\u001b[39m\u001b[38;5;124my\u001b[39m\u001b[38;5;124m'\u001b[39m)\n\u001b[1;32m----> 2\u001b[0m \u001b[38;5;28mprint\u001b[39m(\u001b[43ma\u001b[49m\u001b[43m[\u001b[49m\u001b[43m(\u001b[49m\u001b[38;5;241;43m1\u001b[39;49m\u001b[43m)\u001b[49m\u001b[43m]\u001b[49m)\n",
      "\u001b[1;31mKeyError\u001b[0m: 1"
     ]
    }
   ],
   "source": [
    "a=d2.fromkeys('y')\n",
    "print(a[(1)])  #STAR"
   ]
  },
  {
   "cell_type": "code",
   "execution_count": 102,
   "metadata": {},
   "outputs": [
    {
     "name": "stdout",
     "output_type": "stream",
     "text": [
      "{'b': 10, 'y': [1, 2]}\n"
     ]
    }
   ],
   "source": [
    "d2['b']=10\n",
    "print(d2)"
   ]
  },
  {
   "cell_type": "code",
   "execution_count": 103,
   "metadata": {},
   "outputs": [
    {
     "data": {
      "text/plain": [
       "[1, 2]"
      ]
     },
     "execution_count": 103,
     "metadata": {},
     "output_type": "execute_result"
    }
   ],
   "source": [
    "d2.get('y')"
   ]
  },
  {
   "cell_type": "code",
   "execution_count": null,
   "metadata": {},
   "outputs": [],
   "source": [
    "#adding new values to existing key STAR"
   ]
  },
  {
   "cell_type": "code",
   "execution_count": 105,
   "metadata": {},
   "outputs": [
    {
     "name": "stdout",
     "output_type": "stream",
     "text": [
      "{'b': 10, 'y': [1, 2], 'l': 30}\n"
     ]
    }
   ],
   "source": [
    "d2['l']=30\n",
    "print(d2)"
   ]
  },
  {
   "cell_type": "code",
   "execution_count": null,
   "metadata": {},
   "outputs": [],
   "source": [
    "#converting  2 list to dictionary\n"
   ]
  },
  {
   "cell_type": "code",
   "execution_count": 118,
   "metadata": {},
   "outputs": [
    {
     "name": "stdout",
     "output_type": "stream",
     "text": [
      "{'a': 1, 'b': 2, 'c': 3}\n"
     ]
    }
   ],
   "source": [
    "z1 = ['a', 'b','c','d']\n",
    "z2 = [1, 2, 3]\n",
    "result = dict(zip(z1, z2))\n",
    "print(result)\n"
   ]
  },
  {
   "cell_type": "code",
   "execution_count": 125,
   "metadata": {},
   "outputs": [],
   "source": [
    "#DATE TIME  refer picture\n",
    "from datetime import datetime\n",
    "from datetime import date\n",
    "from datetime import time\n"
   ]
  },
  {
   "cell_type": "code",
   "execution_count": 127,
   "metadata": {},
   "outputs": [
    {
     "name": "stdout",
     "output_type": "stream",
     "text": [
      "<class 'datetime.datetime'>\n"
     ]
    }
   ],
   "source": [
    "a=datetime.now()\n",
    "print(type(a))"
   ]
  },
  {
   "cell_type": "code",
   "execution_count": 128,
   "metadata": {},
   "outputs": [
    {
     "data": {
      "text/plain": [
       "datetime.date(2025, 1, 8)"
      ]
     },
     "execution_count": 128,
     "metadata": {},
     "output_type": "execute_result"
    }
   ],
   "source": [
    "a.date()"
   ]
  },
  {
   "cell_type": "code",
   "execution_count": null,
   "metadata": {},
   "outputs": [
    {
     "data": {
      "text/plain": [
       "'2025-01,08'"
      ]
     },
     "execution_count": 129,
     "metadata": {},
     "output_type": "execute_result"
    }
   ],
   "source": [
    "a.strftime('%Y-%m,%d') #string from time #custmosied format"
   ]
  },
  {
   "cell_type": "code",
   "execution_count": 1,
   "metadata": {},
   "outputs": [
    {
     "ename": "ValueError",
     "evalue": "invalid literal for int() with base 10: ''",
     "output_type": "error",
     "traceback": [
      "\u001b[1;31m---------------------------------------------------------------------------\u001b[0m",
      "\u001b[1;31mValueError\u001b[0m                                Traceback (most recent call last)",
      "Cell \u001b[1;32mIn[1], line 2\u001b[0m\n\u001b[0;32m      1\u001b[0m \u001b[38;5;66;03m#CONVERSION FROM INT TO DATE TIME\u001b[39;00m\n\u001b[1;32m----> 2\u001b[0m dob_year\u001b[38;5;241m=\u001b[39m\u001b[38;5;28;43mint\u001b[39;49m\u001b[43m(\u001b[49m\u001b[38;5;28;43minput\u001b[39;49m\u001b[43m(\u001b[49m\u001b[38;5;124;43m'\u001b[39;49m\u001b[38;5;124;43menter year:\u001b[39;49m\u001b[38;5;124;43m'\u001b[39;49m\u001b[43m)\u001b[49m\u001b[43m)\u001b[49m\n\u001b[0;32m      3\u001b[0m DOB_month\u001b[38;5;241m=\u001b[39m\u001b[38;5;28mint\u001b[39m(\u001b[38;5;28minput\u001b[39m(\u001b[38;5;124m'\u001b[39m\u001b[38;5;124menter month:\u001b[39m\u001b[38;5;124m'\u001b[39m))\n\u001b[0;32m      4\u001b[0m DOB_day\u001b[38;5;241m=\u001b[39m\u001b[38;5;28mint\u001b[39m(\u001b[38;5;28minput\u001b[39m(\u001b[38;5;124m'\u001b[39m\u001b[38;5;124menter day:\u001b[39m\u001b[38;5;124m'\u001b[39m))\n",
      "\u001b[1;31mValueError\u001b[0m: invalid literal for int() with base 10: ''"
     ]
    }
   ],
   "source": [
    "#CONVERSION FROM INT TO DATE TIME\n",
    "dob_year=int(input('enter year:'))\n",
    "DOB_month=int(input('enter month:'))\n",
    "DOB_day=int(input('enter day:'))"
   ]
  },
  {
   "cell_type": "code",
   "execution_count": null,
   "metadata": {},
   "outputs": [],
   "source": [
    "z=datetime(dob_year,DOB_month,DOB_day)"
   ]
  },
  {
   "cell_type": "code",
   "execution_count": null,
   "metadata": {},
   "outputs": [],
   "source": [
    "z.strftime('%d-%m,%y')"
   ]
  },
  {
   "cell_type": "code",
   "execution_count": null,
   "metadata": {},
   "outputs": [],
   "source": [
    "#converting string to date time"
   ]
  },
  {
   "cell_type": "code",
   "execution_count": null,
   "metadata": {},
   "outputs": [],
   "source": [
    "ti=datetime.timestamp(da1)"
   ]
  }
 ],
 "metadata": {
  "kernelspec": {
   "display_name": "Python 3",
   "language": "python",
   "name": "python3"
  },
  "language_info": {
   "codemirror_mode": {
    "name": "ipython",
    "version": 3
   },
   "file_extension": ".py",
   "mimetype": "text/x-python",
   "name": "python",
   "nbconvert_exporter": "python",
   "pygments_lexer": "ipython3",
   "version": "3.12.6"
  }
 },
 "nbformat": 4,
 "nbformat_minor": 2
}
